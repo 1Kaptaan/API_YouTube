{
 "cells": [
  {
   "cell_type": "markdown",
   "metadata": {},
   "source": [
    "## Import important libraries"
   ]
  },
  {
   "cell_type": "code",
   "execution_count": 1,
   "metadata": {},
   "outputs": [],
   "source": [
    "import pandas as pd\n",
    "import numpy as np"
   ]
  },
  {
   "cell_type": "code",
   "execution_count": 2,
   "metadata": {},
   "outputs": [],
   "source": [
    "import requests"
   ]
  },
  {
   "cell_type": "markdown",
   "metadata": {},
   "source": [
    "### In order to make an API request we need API key and Channel id"
   ]
  },
  {
   "cell_type": "code",
   "execution_count": 5,
   "metadata": {},
   "outputs": [],
   "source": [
    "# API_key for Youtube API\n",
    "API_KEY = '***********************' ## Confidential...Not to be shared\n",
    "CHANNEL_ID = 'UCoaKEeilUC7r91S5-D5gsjQ'"
   ]
  },
  {
   "cell_type": "markdown",
   "metadata": {},
   "source": [
    "### Testing GitHub API"
   ]
  },
  {
   "cell_type": "code",
   "execution_count": 9,
   "metadata": {},
   "outputs": [],
   "source": [
    "# Test API\n",
    "## We need to pass the url location for that API and the type of file we want to get data as.\n",
    "response = requests.get('http://api.github.com').json()"
   ]
  },
  {
   "cell_type": "code",
   "execution_count": 15,
   "metadata": {},
   "outputs": [
    {
     "data": {
      "text/plain": [
       "'https://api.github.com/emojis'"
      ]
     },
     "execution_count": 15,
     "metadata": {},
     "output_type": "execute_result"
    }
   ],
   "source": [
    "response['emojis_url'] \n",
    "## This is a dictonary output and we can use keys to call values"
   ]
  },
  {
   "cell_type": "code",
   "execution_count": 17,
   "metadata": {},
   "outputs": [
    {
     "data": {
      "text/plain": [
       "dict_keys(['current_user_url', 'current_user_authorizations_html_url', 'authorizations_url', 'code_search_url', 'commit_search_url', 'emails_url', 'emojis_url', 'events_url', 'feeds_url', 'followers_url', 'following_url', 'gists_url', 'hub_url', 'issue_search_url', 'issues_url', 'keys_url', 'label_search_url', 'notifications_url', 'organization_url', 'organization_repositories_url', 'organization_teams_url', 'public_gists_url', 'rate_limit_url', 'repository_url', 'repository_search_url', 'current_user_repositories_url', 'starred_url', 'starred_gists_url', 'topic_search_url', 'user_url', 'user_organizations_url', 'user_repositories_url', 'user_search_url'])"
      ]
     },
     "execution_count": 17,
     "metadata": {},
     "output_type": "execute_result"
    }
   ],
   "source": [
    "response.keys()"
   ]
  },
  {
   "cell_type": "markdown",
   "metadata": {},
   "source": [
    "## Making 1st Youtube API call using various parameters.\n",
    "### These parameters are given in the YouTube API documentation. We pick what's needed."
   ]
  },
  {
   "cell_type": "code",
   "execution_count": 18,
   "metadata": {},
   "outputs": [],
   "source": [
    "## For Youtube API we need to pick different parameters according to our need...\n",
    "pageToken = \"\"\n",
    "url = 'https://www.googleapis.com/youtube/v3/search?key='+ API_KEY +'&channelID='+ CHANNEL_ID+'&part=snippet'+pageToken\n",
    "\n",
    "youtube_request = requests.get(url).json()\n",
    "## This will include basic channel information in the form of dictionaries..."
   ]
  },
  {
   "cell_type": "code",
   "execution_count": 21,
   "metadata": {},
   "outputs": [
    {
     "data": {
      "text/plain": [
       "{'kind': 'youtube#searchResult',\n",
       " 'etag': 'wqxqqlG4IHUOsnPiVzQIIOCUw0E',\n",
       " 'id': {'kind': 'youtube#video', 'videoId': 'F2yswKCPGoI'},\n",
       " 'snippet': {'publishedAt': '2021-12-01T03:09:08Z',\n",
       "  'channelId': 'UCa6vGFO9ty8v5KZJXQxdhaw',\n",
       "  'title': 'Jimmy Kimmel Has Had Enough of Scumbags Attacking Dr. Fauci for Trying to Keep Us Alive',\n",
       "  'description': 'There is a nationwide shortage of maple syrup in Canada forcing them to withdraw from their strategic maple reserves, the CDC is recommending that every ...',\n",
       "  'thumbnails': {'default': {'url': 'https://i.ytimg.com/vi/F2yswKCPGoI/default.jpg',\n",
       "    'width': 120,\n",
       "    'height': 90},\n",
       "   'medium': {'url': 'https://i.ytimg.com/vi/F2yswKCPGoI/mqdefault.jpg',\n",
       "    'width': 320,\n",
       "    'height': 180},\n",
       "   'high': {'url': 'https://i.ytimg.com/vi/F2yswKCPGoI/hqdefault.jpg',\n",
       "    'width': 480,\n",
       "    'height': 360}},\n",
       "  'channelTitle': 'Jimmy Kimmel Live',\n",
       "  'liveBroadcastContent': 'none',\n",
       "  'publishTime': '2021-12-01T03:09:08Z'}}"
      ]
     },
     "execution_count": 21,
     "metadata": {},
     "output_type": "execute_result"
    }
   ],
   "source": [
    "youtube_request['items'][0]\n",
    "## This is in the form of nested list dictionary..."
   ]
  },
  {
   "cell_type": "markdown",
   "metadata": {},
   "source": [
    "### Extracting required video elements from the JSON file."
   ]
  },
  {
   "cell_type": "code",
   "execution_count": 23,
   "metadata": {},
   "outputs": [],
   "source": [
    "video_id = youtube_request['items'][0]['id']['videoId']"
   ]
  },
  {
   "cell_type": "code",
   "execution_count": 25,
   "metadata": {},
   "outputs": [],
   "source": [
    "video_title = youtube_request['items'][0]['snippet']['title']"
   ]
  },
  {
   "cell_type": "code",
   "execution_count": 30,
   "metadata": {},
   "outputs": [],
   "source": [
    "upload_date = youtube_request['items'][0]['snippet']['publishedAt'][:10]\n",
    "## We can also use split method and save date on the left of split"
   ]
  },
  {
   "cell_type": "markdown",
   "metadata": {},
   "source": [
    "### We create an empty dataframe to store our derived elements"
   ]
  },
  {
   "cell_type": "code",
   "execution_count": 33,
   "metadata": {},
   "outputs": [],
   "source": [
    "df = pd.DataFrame(columns=['video_id','video_title','upload_date','view_count','like_count',\n",
    "                          'dislike_count','comment_count'])"
   ]
  },
  {
   "cell_type": "markdown",
   "metadata": {},
   "source": [
    "## Create a for loop to extract values for every video and include the 2nd API call in it.\n",
    "### The 2nd API call has to be passed after the extraction od video_id as it will be used here.\n",
    "### Lastly we use .append() method to fill our dataframe with the extracted values."
   ]
  },
  {
   "cell_type": "code",
   "execution_count": 36,
   "metadata": {},
   "outputs": [],
   "source": [
    "## To collect all this information for all the videos we create a for loop.\n",
    "for video in youtube_request['items']:\n",
    "    if video['id']['kind'] == 'youtube#video':\n",
    "        video_id = video['id']['videoId']\n",
    "        video_title = video['snippet']['title']\n",
    "        upload_date = video['snippet']['publishedAt'][:10]\n",
    "        \n",
    "        ## 2nd API request to collect all the required stats\n",
    "        url_stats = \"https://www.googleapis.com/youtube/v3/videos?id=\"+video_id+\"&part=statistics&key=\"+API_KEY\n",
    "        stats_request = requests.get(url_stats).json()\n",
    "        \n",
    "        view_count = stats_request['items'][0]['statistics']['viewCount']\n",
    "        like_count = stats_request['items'][0]['statistics']['likeCount']\n",
    "        dislike_count = stats_request['items'][0]['statistics']['dislikeCount']\n",
    "        comment_count = stats_request['items'][0]['statistics']['commentCount']\n",
    "        \n",
    "        \n",
    "        ## After running API request we store the data in the dataframe\n",
    "        ## We pass the a dictionary with column name as key and corresponding values\n",
    "        df = df.append({'video_id': video_id, 'video_title': video_title, 'upload_date': upload_date,\n",
    "                       'view_count': view_count, 'like_count': like_count, 'dislike_count': dislike_count,\n",
    "                       'comment_count': comment_count}, ignore_index= True)"
   ]
  },
  {
   "cell_type": "code",
   "execution_count": 38,
   "metadata": {},
   "outputs": [
    {
     "data": {
      "text/html": [
       "<div>\n",
       "<style scoped>\n",
       "    .dataframe tbody tr th:only-of-type {\n",
       "        vertical-align: middle;\n",
       "    }\n",
       "\n",
       "    .dataframe tbody tr th {\n",
       "        vertical-align: top;\n",
       "    }\n",
       "\n",
       "    .dataframe thead th {\n",
       "        text-align: right;\n",
       "    }\n",
       "</style>\n",
       "<table border=\"1\" class=\"dataframe\">\n",
       "  <thead>\n",
       "    <tr style=\"text-align: right;\">\n",
       "      <th></th>\n",
       "      <th>video_id</th>\n",
       "      <th>video_title</th>\n",
       "      <th>upload_date</th>\n",
       "      <th>view_count</th>\n",
       "      <th>like_count</th>\n",
       "      <th>dislike_count</th>\n",
       "      <th>comment_count</th>\n",
       "    </tr>\n",
       "  </thead>\n",
       "  <tbody>\n",
       "    <tr>\n",
       "      <th>0</th>\n",
       "      <td>F2yswKCPGoI</td>\n",
       "      <td>Jimmy Kimmel Has Had Enough of Scumbags Attack...</td>\n",
       "      <td>2021-12-01</td>\n",
       "      <td>1197109</td>\n",
       "      <td>35000</td>\n",
       "      <td>2309</td>\n",
       "      <td>4126</td>\n",
       "    </tr>\n",
       "    <tr>\n",
       "      <th>1</th>\n",
       "      <td>6ilZeMFyNE8</td>\n",
       "      <td>LN+ EN VIVO las 24 horas</td>\n",
       "      <td>2021-11-01</td>\n",
       "      <td>9714535</td>\n",
       "      <td>25110</td>\n",
       "      <td>3463</td>\n",
       "      <td>0</td>\n",
       "    </tr>\n",
       "  </tbody>\n",
       "</table>\n",
       "</div>"
      ],
      "text/plain": [
       "      video_id                                        video_title upload_date  \\\n",
       "0  F2yswKCPGoI  Jimmy Kimmel Has Had Enough of Scumbags Attack...  2021-12-01   \n",
       "1  6ilZeMFyNE8                           LN+ EN VIVO las 24 horas  2021-11-01   \n",
       "\n",
       "  view_count like_count dislike_count comment_count  \n",
       "0    1197109      35000          2309          4126  \n",
       "1    9714535      25110          3463             0  "
      ]
     },
     "execution_count": 38,
     "metadata": {},
     "output_type": "execute_result"
    }
   ],
   "source": [
    "df"
   ]
  },
  {
   "cell_type": "markdown",
   "metadata": {},
   "source": [
    "## This way we can extract data from the YouTube API."
   ]
  }
 ],
 "metadata": {
  "kernelspec": {
   "display_name": "Python 3",
   "language": "python",
   "name": "python3"
  },
  "language_info": {
   "codemirror_mode": {
    "name": "ipython",
    "version": 3
   },
   "file_extension": ".py",
   "mimetype": "text/x-python",
   "name": "python",
   "nbconvert_exporter": "python",
   "pygments_lexer": "ipython3",
   "version": "3.7.6"
  }
 },
 "nbformat": 4,
 "nbformat_minor": 4
}
