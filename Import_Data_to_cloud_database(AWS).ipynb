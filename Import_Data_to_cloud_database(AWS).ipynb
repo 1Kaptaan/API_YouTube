{
 "cells": [
  {
   "cell_type": "markdown",
   "metadata": {},
   "source": [
    "## Import important Libraries"
   ]
  },
  {
   "cell_type": "code",
   "execution_count": 1,
   "metadata": {},
   "outputs": [],
   "source": [
    "import pandas as pd\n",
    "import pymysql as sql"
   ]
  },
  {
   "cell_type": "markdown",
   "metadata": {},
   "source": [
    "## Youtube_API.csv contains data pulled from the YouTube API.\n",
    "### We will us this dataframe to push data into a table on AWS cloud Database"
   ]
  },
  {
   "cell_type": "code",
   "execution_count": 2,
   "metadata": {},
   "outputs": [
    {
     "data": {
      "text/html": [
       "<div>\n",
       "<style scoped>\n",
       "    .dataframe tbody tr th:only-of-type {\n",
       "        vertical-align: middle;\n",
       "    }\n",
       "\n",
       "    .dataframe tbody tr th {\n",
       "        vertical-align: top;\n",
       "    }\n",
       "\n",
       "    .dataframe thead th {\n",
       "        text-align: right;\n",
       "    }\n",
       "</style>\n",
       "<table border=\"1\" class=\"dataframe\">\n",
       "  <thead>\n",
       "    <tr style=\"text-align: right;\">\n",
       "      <th></th>\n",
       "      <th>video_id</th>\n",
       "      <th>video_title</th>\n",
       "      <th>upload_date</th>\n",
       "      <th>view_count</th>\n",
       "      <th>like_count</th>\n",
       "      <th>dislike_count</th>\n",
       "      <th>comment_count</th>\n",
       "    </tr>\n",
       "  </thead>\n",
       "  <tbody>\n",
       "    <tr>\n",
       "      <th>0</th>\n",
       "      <td>F2yswKCPGoI</td>\n",
       "      <td>Jimmy Kimmel Has Had Enough of Scumbags Attack...</td>\n",
       "      <td>2021-12-01</td>\n",
       "      <td>1197109</td>\n",
       "      <td>35000</td>\n",
       "      <td>2309</td>\n",
       "      <td>4126</td>\n",
       "    </tr>\n",
       "    <tr>\n",
       "      <th>1</th>\n",
       "      <td>6ilZeMFyNE8</td>\n",
       "      <td>LN+ EN VIVO las 24 horas</td>\n",
       "      <td>2021-11-01</td>\n",
       "      <td>9714535</td>\n",
       "      <td>25110</td>\n",
       "      <td>3463</td>\n",
       "      <td>0</td>\n",
       "    </tr>\n",
       "  </tbody>\n",
       "</table>\n",
       "</div>"
      ],
      "text/plain": [
       "      video_id                                        video_title upload_date  \\\n",
       "0  F2yswKCPGoI  Jimmy Kimmel Has Had Enough of Scumbags Attack...  2021-12-01   \n",
       "1  6ilZeMFyNE8                           LN+ EN VIVO las 24 horas  2021-11-01   \n",
       "\n",
       "   view_count  like_count  dislike_count  comment_count  \n",
       "0     1197109       35000           2309           4126  \n",
       "1     9714535       25110           3463              0  "
      ]
     },
     "execution_count": 2,
     "metadata": {},
     "output_type": "execute_result"
    }
   ],
   "source": [
    "df = pd.read_csv('Youtube_API.csv', index_col=0)\n",
    "df"
   ]
  },
  {
   "cell_type": "markdown",
   "metadata": {},
   "source": [
    "### To connect to the cloud database we need a username, password, host, database_name and port\n",
    "#### We define a function to connect to the cloud database and raise an error message if any..."
   ]
  },
  {
   "cell_type": "code",
   "execution_count": 3,
   "metadata": {},
   "outputs": [],
   "source": [
    "## This will try and let us know if connection was possible or there was any error..\n",
    "\n",
    "def connect_to_db(username, password, host_name, dbname, port):\n",
    "    try:\n",
    "        conn = sql.connect(user=username, password=password, host=host_name, database=dbname, port=port)\n",
    "\n",
    "    except sql.OperationalError as e:\n",
    "        raise e\n",
    "\n",
    "    else:\n",
    "        print ('Connected!!!')\n",
    "    \n",
    "    return conn"
   ]
  },
  {
   "cell_type": "code",
   "execution_count": 4,
   "metadata": {},
   "outputs": [
    {
     "name": "stdout",
     "output_type": "stream",
     "text": [
      "Connected!!!\n"
     ]
    }
   ],
   "source": [
    "## All this data is confidential and must not be shared...\n",
    "\n",
    "host_name = \"**********************\"\n",
    "dbname = '***********'\n",
    "port = 3306\n",
    "username = '*******'\n",
    "password = '*********'\n",
    "conn = None\n",
    "\n",
    "conn = connect_to_db(username, password, host_name, dbname, port)"
   ]
  },
  {
   "cell_type": "code",
   "execution_count": 5,
   "metadata": {},
   "outputs": [],
   "source": [
    "## cursor is used to run sql queries in python environment\n",
    "curr = conn.cursor()"
   ]
  },
  {
   "cell_type": "code",
   "execution_count": 6,
   "metadata": {},
   "outputs": [],
   "source": [
    "# We need to create a table in our AWS cloud database where we can store our data.\n",
    "\n",
    "def create_table(curr):\n",
    "    create_table_command = (\"\"\" CREATE TABLE IF NOT EXISTS videos(\n",
    "                    video_id VARCHAR(255) PRIMARY KEY,\n",
    "                    video_title TEXT NOT NULL,\n",
    "                    upload_date DATE NOT NULL DEFAULT (CURRENT_DATE),\n",
    "                    view_count INT NOT NULL,\n",
    "                    like_count INT NOT NULL,\n",
    "                    dislike_count INT NOT NULL,\n",
    "                    comment_count INT NOT NULL )\"\"\")\n",
    "    curr.execute(create_table_command)"
   ]
  },
  {
   "cell_type": "code",
   "execution_count": 7,
   "metadata": {},
   "outputs": [],
   "source": [
    "create_table(curr)"
   ]
  },
  {
   "cell_type": "code",
   "execution_count": 8,
   "metadata": {},
   "outputs": [
    {
     "data": {
      "text/plain": [
       "7"
      ]
     },
     "execution_count": 8,
     "metadata": {},
     "output_type": "execute_result"
    }
   ],
   "source": [
    "curr.execute(\"SHOW COLUMNS FROM videos;\")"
   ]
  },
  {
   "cell_type": "markdown",
   "metadata": {},
   "source": [
    "## In order to push data to cloud and make sure there are no duplicates we need to check if any video already exists in the database and if it exists we update the table and if not we insert the new row in the table."
   ]
  },
  {
   "cell_type": "code",
   "execution_count": 9,
   "metadata": {},
   "outputs": [],
   "source": [
    "# Check if the video exists\n",
    "\n",
    "def check_if_video_exists(curr, video_id):\n",
    "    query = (\"\"\"SELECT video_id FROM videos WHERE video_id = %s;\"\"\")\n",
    "    curr.execute(query, (video_id)) #The values for placeholders (%s) will always be passed as tuples\n",
    "    \n",
    "    return curr.fetchone() is not None"
   ]
  },
  {
   "cell_type": "code",
   "execution_count": 10,
   "metadata": {},
   "outputs": [],
   "source": [
    "# Update row if the video exists\n",
    "\n",
    "def update_row(curr, video_id, video_title, view_count, like_count, dislike_count, comment_count):\n",
    "    query = (\"\"\"UPDATE videos\n",
    "            SET video_title = %s,\n",
    "            view_count = %s,\n",
    "            like_count = %s,\n",
    "            dislike_count = %s,\n",
    "            comment_count = %s\n",
    "            WHERE video_id = %s;\"\"\")\n",
    "\n",
    "    vars_to_update = (video_title, view_count, like_count, dislike_count, comment_count, video_id)\n",
    "    curr.execute(query,vars_to_update)"
   ]
  },
  {
   "cell_type": "code",
   "execution_count": 11,
   "metadata": {},
   "outputs": [],
   "source": [
    "# Function to update or insert new values. We combine all the above functions.\n",
    "## We also create a temporary table to store new rows which we will use to append to the cloud.\n",
    "\n",
    "def update_db(curr,df):\n",
    "    # temporary dataframe to store new rows\n",
    "    tmp_df = pd.DataFrame(columns=['video_id','video_title','upload_date','view_count','like_count',\n",
    "                              'dislike_count','comment_count'])\n",
    "   \n",
    "    for i, row in df.iterrows(): # df.iterrows() to apply for loop on pandas df\n",
    "        \n",
    "        if check_if_video_exists(curr, row['video_id']): # If the video exists we will update\n",
    "            update_row(curr,row['video_id'], row['video_title'],row['view_count'],row['like_count'],\n",
    "                       row['dislike_count'],row['comment_count'])\n",
    "        else: # If the video doesn't exist we append those to a new dataframe\n",
    "            tmp_df = tmp_df.append(row)\n",
    "    \n",
    "    return tmp_df"
   ]
  },
  {
   "cell_type": "code",
   "execution_count": 12,
   "metadata": {},
   "outputs": [],
   "source": [
    "updated_df = update_db(curr,df)"
   ]
  },
  {
   "cell_type": "markdown",
   "metadata": {},
   "source": [
    "### After getting the new rows and updating any old rows we use a function to update our table in cloud."
   ]
  },
  {
   "cell_type": "code",
   "execution_count": 13,
   "metadata": {},
   "outputs": [],
   "source": [
    "def insert_into_table(curr, video_title, view_count, upload_date, like_count,\n",
    "                      dislike_count, comment_count, video_id):\n",
    "    \n",
    "    query = (\"\"\"INSERT INTO videos\n",
    "            (video_id, video_title,upload_date,view_count,like_count,dislike_count,comment_count)\n",
    "            VALUES (%s,%s,%s,%s,%s,%s,%s)\"\"\")\n",
    "\n",
    "    row_to_insert=(video_title, view_count, upload_date, like_count, dislike_count, comment_count, video_id)\n",
    "    curr.execute(query,row_to_insert)"
   ]
  },
  {
   "cell_type": "code",
   "execution_count": 14,
   "metadata": {},
   "outputs": [],
   "source": [
    "def df_to_db(curr,df):\n",
    "    for i, row in df.iterrows():\n",
    "        insert_into_table(curr, row['video_id'], row['video_title'], row['view_count'], row['upload_date'], \n",
    "                          row['like_count'], row['dislike_count'], row['comment_count'] )"
   ]
  },
  {
   "cell_type": "code",
   "execution_count": 15,
   "metadata": {},
   "outputs": [],
   "source": [
    "df_to_db(curr, updated_df)"
   ]
  },
  {
   "cell_type": "code",
   "execution_count": 16,
   "metadata": {},
   "outputs": [],
   "source": [
    "conn.commit()"
   ]
  },
  {
   "cell_type": "code",
   "execution_count": null,
   "metadata": {},
   "outputs": [],
   "source": []
  }
 ],
 "metadata": {
  "kernelspec": {
   "display_name": "Python 3",
   "language": "python",
   "name": "python3"
  },
  "language_info": {
   "codemirror_mode": {
    "name": "ipython",
    "version": 3
   },
   "file_extension": ".py",
   "mimetype": "text/x-python",
   "name": "python",
   "nbconvert_exporter": "python",
   "pygments_lexer": "ipython3",
   "version": "3.7.6"
  }
 },
 "nbformat": 4,
 "nbformat_minor": 4
}
